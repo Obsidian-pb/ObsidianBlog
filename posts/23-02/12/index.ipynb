{
  "cells": [
    {
      "cell_type": "raw",
      "metadata": {},
      "source": [
        "---\n",
        "title: \"12 февраля 2023\"\n",
        "author: \"Малютин О.С.\"\n",
        "date: \"2023-02-12\"\n",
        "categories: [ежедневно, 2023 февраль, данные]\n",
        "image: \"index.jpg\"\n",
        "toc: true\n",
        "---"
      ],
      "id": "4f4a9743"
    },
    {
      "cell_type": "markdown",
      "metadata": {},
      "source": [
        "# Ежедневный отчет\n",
        "\n",
        "Воскресенье. Подготовка датасета по пожарам в Красноярске и изучение возможностей ChatGPT по помощи в работе.\n",
        "\n",
        "\n",
        "# Данные по пожарам\n",
        "\n",
        "Написал код на VBA для экспорта сырых (необработанных текстовых) данных из документов Word в промежуточный файл .txt.\n",
        "\n",
        "Написал код для получения датасета Pandas с сырыми дынными на Python.\n",
        "\n",
        "Начал писать код Python для обработки сырых данных на Python и формированию итогового датасета для работы.\n",
        "\n",
        "# ChatGPT\n",
        "\n",
        "Попутно начал активно использовать в работе ChatGPT. Оказалось, что это и впрямь чрезвычайно полезный инструмент который заметно сокращает время разработки.\n",
        "\n",
        "Например, я получил в ответ на запрос `Write Python code to load text from txt file and parse it to pandas DataFrame` такой ответ:\n"
      ],
      "id": "3a3d77c4"
    },
    {
      "cell_type": "code",
      "metadata": {},
      "source": [
        "#| eval: false\n",
        "import pandas as pd\n",
        "\n",
        "# Load text from txt file\n",
        "with open('data.txt', 'r') as f:\n",
        "    data = f.read()\n",
        "    \n",
        "# Parse text to pandas DataFrame    \n",
        "df = pd.DataFrame([x.split(',') for x in data.split('\\n')])"
      ],
      "id": "c569871a",
      "execution_count": null,
      "outputs": []
    },
    {
      "cell_type": "markdown",
      "metadata": {},
      "source": [
        "А на запрос с просьбой написать необходимое для извлечения географических координат регулярное выражение -- `write regular expression in Python for extrude data like \"59.234543\" from string like \"dhgdf hfhjf gg 59.234543, sfgfdsgds\"`, был получен следующий ответ:\n"
      ],
      "id": "f67ba120"
    },
    {
      "cell_type": "code",
      "metadata": {},
      "source": [
        "import re\n",
        "\n",
        "re.findall(r'\\d+\\.\\d+', 'dhgdf hfhjf gg 59.234543, sfgfdsgds')"
      ],
      "id": "84ccea97",
      "execution_count": null,
      "outputs": []
    },
    {
      "cell_type": "markdown",
      "metadata": {},
      "source": [
        "Но самое удивительное произошло когда я попытался запросить парсинг исходных данных:\n",
        "\n",
        "![](index.jpg)\n",
        "\n",
        "ChatGPT не распарсил данные, однако он их описал(!)."
      ],
      "id": "5526b0cd"
    }
  ],
  "metadata": {
    "kernelspec": {
      "display_name": "Python 3",
      "language": "python",
      "name": "python3"
    }
  },
  "nbformat": 4,
  "nbformat_minor": 5
}